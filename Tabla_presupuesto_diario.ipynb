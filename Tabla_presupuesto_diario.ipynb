{
  "nbformat": 4,
  "nbformat_minor": 0,
  "metadata": {
    "colab": {
      "provenance": [],
      "mount_file_id": "1tL8He5icI3TvAvMRz5K9OjBF-i0jYhVB",
      "authorship_tag": "ABX9TyNyHMQU5JsaVinkVRCJXv1R",
      "include_colab_link": true
    },
    "kernelspec": {
      "name": "python3",
      "display_name": "Python 3"
    },
    "language_info": {
      "name": "python"
    }
  },
  "cells": [
    {
      "cell_type": "markdown",
      "metadata": {
        "id": "view-in-github",
        "colab_type": "text"
      },
      "source": [
        "<a href=\"https://colab.research.google.com/github/connor9899/DataScience/blob/main/Tabla_presupuesto_diario.ipynb\" target=\"_parent\"><img src=\"https://colab.research.google.com/assets/colab-badge.svg\" alt=\"Open In Colab\"/></a>"
      ]
    },
    {
      "cell_type": "markdown",
      "source": [
        "## Tabla presupuesto diario"
      ],
      "metadata": {
        "id": "c6InUaWGKer7"
      }
    },
    {
      "cell_type": "markdown",
      "source": [
        "En este codigo se unifican 3 tablas.\n",
        "\n",
        "1.   Tabla de presupuesto (df_presupuesto)\n",
        "2.   Tabla de los meses y dias habiles (df_dias_habiles)\n",
        "3.   Tabla calendari de los dias habiles del mes (df_fechas)\n",
        "\n",
        "Para generar la tabla de presupuesto diario (df_final)\n",
        "\n"
      ],
      "metadata": {
        "id": "pOckefYaKm4k"
      }
    },
    {
      "cell_type": "markdown",
      "source": [
        "# Librerias"
      ],
      "metadata": {
        "id": "fNjxq9GtLzQ1"
      }
    },
    {
      "cell_type": "code",
      "source": [
        "import pandas as pd;\n",
        "from collections import Counter;"
      ],
      "metadata": {
        "id": "IBk7VmOHHGWg"
      },
      "execution_count": 14,
      "outputs": []
    },
    {
      "cell_type": "markdown",
      "source": [
        "#  Conección a google drive"
      ],
      "metadata": {
        "id": "C4_mtAW2PfP5"
      }
    },
    {
      "cell_type": "code",
      "source": [
        "from google.colab import drive\n",
        "import os\n",
        "drive.mount('/content/gdrive')"
      ],
      "metadata": {
        "colab": {
          "base_uri": "https://localhost:8080/"
        },
        "id": "qLX1o2sVO101",
        "outputId": "73cee17d-76cc-4d89-8677-17234c0ee09d"
      },
      "execution_count": 8,
      "outputs": [
        {
          "output_type": "stream",
          "name": "stdout",
          "text": [
            "Drive already mounted at /content/gdrive; to attempt to forcibly remount, call drive.mount(\"/content/gdrive\", force_remount=True).\n"
          ]
        }
      ]
    },
    {
      "cell_type": "markdown",
      "source": [
        "# Conección al archivo excel\n"
      ],
      "metadata": {
        "id": "ynJs_yjFMRhO"
      }
    },
    {
      "cell_type": "code",
      "source": [
        "df_dias_habiles = pd.read_excel(\"/content/gdrive/MyDrive/DataSet/Tabla_Presupuesto_Python.xlsx\", sheet_name=\"Dias_Habiles\")"
      ],
      "metadata": {
        "id": "wkAVjR3qQbVO"
      },
      "execution_count": 15,
      "outputs": []
    },
    {
      "cell_type": "code",
      "source": [
        "df_fechas = pd.read_excel(\"/content/gdrive/MyDrive/DataSet/Tabla_Presupuesto_Python.xlsx\", sheet_name=\"Dias_Habiles_Especifico\")"
      ],
      "metadata": {
        "id": "uxejXQVHR2B9"
      },
      "execution_count": 17,
      "outputs": []
    },
    {
      "cell_type": "code",
      "source": [
        "df_presupuesto = pd.read_excel(\"/content/gdrive/MyDrive/DataSet/Tabla_Presupuesto_Python.xlsx\", sheet_name=\"presupuesto_anual\")"
      ],
      "metadata": {
        "id": "XKp6IqITrXmg"
      },
      "execution_count": 19,
      "outputs": []
    },
    {
      "cell_type": "markdown",
      "source": [
        "Visualización de las 5 primeras filas de cada archivo e información del DataFrame"
      ],
      "metadata": {
        "id": "Auvm77aMMdXR"
      }
    },
    {
      "cell_type": "code",
      "source": [
        "# Ver las primeras 5 filas\n",
        "print(df_dias_habiles.head())\n",
        "\n",
        "# Ver información sobre el DataFrame\n",
        "print(df_dias_habiles.info())"
      ],
      "metadata": {
        "colab": {
          "base_uri": "https://localhost:8080/"
        },
        "id": "s1e_DQI_RpL-",
        "outputId": "2bb24a47-9412-4be0-8196-1371b575618e"
      },
      "execution_count": 16,
      "outputs": [
        {
          "output_type": "stream",
          "name": "stdout",
          "text": [
            "   Orden      Mes  Dias_habiles\n",
            "0      1    Enero            22\n",
            "1      2  Febrero            20\n",
            "2      3    Marzo            21\n",
            "3      4    Abril            21\n",
            "4      5     Mayo            20\n",
            "<class 'pandas.core.frame.DataFrame'>\n",
            "RangeIndex: 12 entries, 0 to 11\n",
            "Data columns (total 3 columns):\n",
            " #   Column        Non-Null Count  Dtype \n",
            "---  ------        --------------  ----- \n",
            " 0   Orden         12 non-null     int64 \n",
            " 1   Mes           12 non-null     object\n",
            " 2   Dias_habiles  12 non-null     int64 \n",
            "dtypes: int64(2), object(1)\n",
            "memory usage: 416.0+ bytes\n",
            "None\n"
          ]
        }
      ]
    },
    {
      "cell_type": "code",
      "source": [
        "# Ver las primeras 5 filas\n",
        "print(df_fechas.head())\n",
        "\n",
        "# Ver información sobre el DataFrame\n",
        "print(df_fechas.info())"
      ],
      "metadata": {
        "colab": {
          "base_uri": "https://localhost:8080/"
        },
        "id": "HMrBDNtdSIRP",
        "outputId": "50eb9f60-51bd-46fc-dd55-e820cff811a5"
      },
      "execution_count": 18,
      "outputs": [
        {
          "output_type": "stream",
          "name": "stdout",
          "text": [
            "  Fecha_Dias_Habiles  N_Mes    Mes\n",
            "0         2025-01-02      1  Enero\n",
            "1         2025-01-03      1  Enero\n",
            "2         2025-01-06      1  Enero\n",
            "3         2025-01-07      1  Enero\n",
            "4         2025-01-08      1  Enero\n",
            "<class 'pandas.core.frame.DataFrame'>\n",
            "RangeIndex: 250 entries, 0 to 249\n",
            "Data columns (total 3 columns):\n",
            " #   Column              Non-Null Count  Dtype         \n",
            "---  ------              --------------  -----         \n",
            " 0   Fecha_Dias_Habiles  250 non-null    datetime64[ns]\n",
            " 1   N_Mes               250 non-null    int64         \n",
            " 2   Mes                 250 non-null    object        \n",
            "dtypes: datetime64[ns](1), int64(1), object(1)\n",
            "memory usage: 6.0+ KB\n",
            "None\n"
          ]
        }
      ]
    },
    {
      "cell_type": "code",
      "source": [
        "# Ver las primeras 5 filas\n",
        "print(df_presupuesto.head())\n",
        "\n",
        "# Ver información sobre el DataFrame\n",
        "print(df_presupuesto.info())"
      ],
      "metadata": {
        "colab": {
          "base_uri": "https://localhost:8080/"
        },
        "id": "joroyNJmrgjR",
        "outputId": "61e95b75-a6e9-4396-8dc2-944644f8ad69"
      },
      "execution_count": 20,
      "outputs": [
        {
          "output_type": "stream",
          "name": "stdout",
          "text": [
            "   Categoria              Area   Sub_Categoria  Presupuesto_Mensual\n",
            "0  Mayorista  corporativo real        deposito                  188\n",
            "1  Mayorista  corporativo real          Noneda                   16\n",
            "2  Minorista  corporativo real       derivados                   39\n",
            "3  Minorista               NaN          pactos                   50\n",
            "4  Minorista               NaN  estructturados                   60\n",
            "<class 'pandas.core.frame.DataFrame'>\n",
            "RangeIndex: 5 entries, 0 to 4\n",
            "Data columns (total 4 columns):\n",
            " #   Column               Non-Null Count  Dtype \n",
            "---  ------               --------------  ----- \n",
            " 0   Categoria            5 non-null      object\n",
            " 1   Area                 3 non-null      object\n",
            " 2   Sub_Categoria        5 non-null      object\n",
            " 3   Presupuesto_Mensual  5 non-null      int64 \n",
            "dtypes: int64(1), object(3)\n",
            "memory usage: 288.0+ bytes\n",
            "None\n"
          ]
        }
      ]
    },
    {
      "cell_type": "markdown",
      "source": [
        "Genera nueva tabla y se realiza la consolidación y campos de los calculos"
      ],
      "metadata": {
        "id": "0bCLoJWVmCsI"
      }
    },
    {
      "cell_type": "code",
      "source": [
        "resultado = []\n",
        "for _, fecha_row in df_fechas.iterrows():\n",
        "    # Obtener los días hábiles para el mes actual\n",
        "    dias_habiles = df_dias_habiles[df_dias_habiles['Mes'] == fecha_row['Mes']]['Dias_habiles'].iloc[0]\n",
        "\n",
        "    for _, presup_row in df_presupuesto.iterrows():\n",
        "        # Calcular el presupuesto diario\n",
        "        presupuesto_diario = presup_row['Presupuesto_Mensual'] / dias_habiles\n",
        "\n",
        "        nueva_fila = {\n",
        "            'Fecha_Dias_Habiles': fecha_row['Fecha_Dias_Habiles'],\n",
        "            'N_Mes': fecha_row['N_Mes'],\n",
        "            'Mes': fecha_row['Mes'],\n",
        "            'Segmento de mesa': presup_row['Segmento de mesa'],\n",
        "            'Mayorista': presup_row['Mayorista'],\n",
        "            'Corporativas': presup_row['Corporativas'],\n",
        "            'Sub Mayoristas / Sub Minoristas': presup_row['Sub Mayoristas / Sub Minoristas'],\n",
        "            'Producto Generico': presup_row['Producto Generico'],\n",
        "            'PP Base Mensual(MM$)': presup_row['PP Base Mensual(MM$)'],\n",
        "            'Dias_Habiles_Mes': dias_habiles,\n",
        "            'Presupuesto_Diario': round(presupuesto_diario, 2)  # Redondeamos a 2 decimales\n",
        "        }\n",
        "        resultado.append(nueva_fila)"
      ],
      "metadata": {
        "id": "EvuFGVmGrTKZ"
      },
      "execution_count": 21,
      "outputs": []
    },
    {
      "cell_type": "code",
      "source": [
        "# Crear DataFrame final\n",
        "df_final = pd.DataFrame(resultado)\n",
        "\n",
        "# Ordenar las columnas\n",
        "df_final = df_final[[\n",
        "    'Fecha_Dias_Habiles', 'N_Mes', 'Mes',\n",
        "    'Categoria', 'Area', 'Sub_Categoria',\n",
        "    'Presupuesto_Mensual', 'Dias_Habiles_Mes', 'Presupuesto_Diario'\n",
        "]]\n"
      ],
      "metadata": {
        "id": "6JTyzXppwU7y"
      },
      "execution_count": 22,
      "outputs": []
    },
    {
      "cell_type": "code",
      "source": [
        "df_final.to_excel('resultado_con_presupuesto_diario.xlsx', index=False)\n",
        "\n",
        "# Mostrar información del resultado\n",
        "print(\"Primeras 10 filas del resultado:\")\n",
        "print(df_final.head(10))\n",
        "print(\"\\nTotal de filas:\", len(df_final))"
      ],
      "metadata": {
        "colab": {
          "base_uri": "https://localhost:8080/"
        },
        "id": "xvDJIqVZwWZ6",
        "outputId": "d3ad7bcf-a3bc-475f-88e8-ae9b1f8c5c1f"
      },
      "execution_count": 23,
      "outputs": [
        {
          "output_type": "stream",
          "name": "stdout",
          "text": [
            "Primeras 10 filas del resultado:\n",
            "  Fecha_Dias_Habiles  N_Mes    Mes  Categoria              Area  \\\n",
            "0         2025-01-02      1  Enero  Mayorista  corporativo real   \n",
            "1         2025-01-02      1  Enero  Mayorista  corporativo real   \n",
            "2         2025-01-02      1  Enero  Minorista  corporativo real   \n",
            "3         2025-01-02      1  Enero  Minorista               NaN   \n",
            "4         2025-01-02      1  Enero  Minorista               NaN   \n",
            "5         2025-01-03      1  Enero  Mayorista  corporativo real   \n",
            "6         2025-01-03      1  Enero  Mayorista  corporativo real   \n",
            "7         2025-01-03      1  Enero  Minorista  corporativo real   \n",
            "8         2025-01-03      1  Enero  Minorista               NaN   \n",
            "9         2025-01-03      1  Enero  Minorista               NaN   \n",
            "\n",
            "    Sub_Categoria  Presupuesto_Mensual  Dias_Habiles_Mes  Presupuesto_Diario  \n",
            "0        deposito                  188                22                8.55  \n",
            "1          Noneda                   16                22                0.73  \n",
            "2       derivados                   39                22                1.77  \n",
            "3          pactos                   50                22                2.27  \n",
            "4  estructturados                   60                22                2.73  \n",
            "5        deposito                  188                22                8.55  \n",
            "6          Noneda                   16                22                0.73  \n",
            "7       derivados                   39                22                1.77  \n",
            "8          pactos                   50                22                2.27  \n",
            "9  estructturados                   60                22                2.73  \n",
            "\n",
            "Total de filas: 1250\n"
          ]
        }
      ]
    }
  ]
}